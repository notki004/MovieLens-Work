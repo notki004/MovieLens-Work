{
 "cells": [
  {
   "attachments": {},
   "cell_type": "markdown",
   "id": "0a57a15a-d6e1-4f87-99b3-a3e1e741fe02",
   "metadata": {},
   "source": [
    "# <u>MovieLens Tagging Data Research</u>\n",
    "\n",
    "### This notebook demonstrates my research for the MovieLens group where we try to connect movie tags to movie recommendation. The overall end goal of this project is to be able to recommend movies based on which tags the users on the MovieLens website are having a positive interaction with. This means that a user puts a \"+1\" for that tag on that specific movie. "
   ]
  },
  {
   "cell_type": "markdown",
   "id": "6b0474bb-b45e-4106-bfd4-963202024689",
   "metadata": {},
   "source": [
    "### <u>10/26/23-11/16/23 </u> \n",
    "\n",
    "##### Shown below is the code that I wrote when I tried to correlate user-affect interaction with the names of different actors/actresses. We tried looking through this through random \"active\" movie data to see if there was sufficient \"starter\" data for the tagging system. By doing this we are hoping we could dive deeper into this aspect of the database to have a better understanding of how to recommend movies that users could like. "
   ]
  },
  {
   "cell_type": "code",
   "execution_count": 1,
   "id": "3f01e562-275f-4b4a-b7f0-5d18e1758b0e",
   "metadata": {},
   "outputs": [
    {
     "name": "stdout",
     "output_type": "stream",
     "text": [
      "Statistics for 5 random movies written to random_movies_statistics.csv\n"
     ]
    }
   ],
   "source": [
    "import mysql.connector\n",
    "import csv\n",
    "import random\n",
    "\n",
    "def get_user_input():\n",
    "    while True:\n",
    "        try:\n",
    "            num_movies = int(input(\"Enter the number of movies you want to print: \"))\n",
    "            if num_movies > 0:\n",
    "                return num_movies\n",
    "            else:\n",
    "                print(\"Please enter a positive number.\")\n",
    "        except ValueError:\n",
    "            print(\"Invalid input. Please enter a valid number.\")\n",
    "\n",
    "db_config = {\n",
    "    \"host\": \"127.0.0.1\",\n",
    "    \"user\": \"readonly\",\n",
    "    \"password\": \"\",\n",
    "    \"database\": \"ML3_mirror\"\n",
    "}\n",
    "\n",
    "conn = mysql.connector.connect(**db_config)\n",
    "cursor = conn.cursor()\n",
    "\n",
    "movies = []\n",
    "\n",
    "# Fetch movie data\n",
    "query = \"SELECT movieID, title, directedBy, starring FROM movie_data WHERE movieStatus = 2 AND rowType = 11\"\n",
    "cursor.execute(query)\n",
    "\n",
    "# Loop through movies to get title, directedBy, and Starring within the database\n",
    "for (movieID, title, directedBy, starring) in cursor:\n",
    "    movie_info = {\n",
    "        \"movieID\": movieID,\n",
    "        \"title\": title,\n",
    "        \"directedBy\": directedBy.split(\", \"),\n",
    "        \"starring\": starring.split(\", \")\n",
    "    }\n",
    "    movies.append(movie_info)\n",
    "\n",
    "# Get the number of movies the user wants to print\n",
    "num_movies_to_print = get_user_input()\n",
    "\n",
    "# Ensure at least num_movies_to_print unique movies are selected\n",
    "selected_movies = random.sample(movies, num_movies_to_print)\n",
    "\n",
    "# Write statistics for the selected random movies and relevant tags to a CSV file\n",
    "csv_filename = \"random_movies_statistics.csv\"\n",
    "\n",
    "with open(csv_filename, \"w\", newline=\"\") as csv_file:\n",
    "    csv_writer = csv.writer(csv_file)\n",
    "\n",
    "    # Write header\n",
    "    csv_writer.writerow([\"Movie Title\", \"Tag\", \"Affect Percentage\"])\n",
    "\n",
    "    # Loop through each random movie\n",
    "    for movie in selected_movies:\n",
    "        movie_title = movie[\"title\"]\n",
    "\n",
    "        tag_stats = {}\n",
    "\n",
    "        # Fetch tag data for the current movie and actors\n",
    "        query = f\"SELECT tag, uniqueUsers, totalPositive FROM tag_data WHERE tag IN ({', '.join(['%s']*len(movie['starring']))})\"\n",
    "        cursor.execute(query, movie['starring'])\n",
    "\n",
    "        # Get tag, uniqueUsers, and totalPositive values for the current movie\n",
    "        for (tag, uniqueUsers, totalPositive) in cursor:\n",
    "            tag_stats[tag] = {\n",
    "                \"uniqueUsers\": uniqueUsers,\n",
    "                \"totalPositive\": totalPositive,\n",
    "            }\n",
    "\n",
    "        # Check if there are tags related to the actors and actresses in the selected movie\n",
    "        if not tag_stats:\n",
    "            # Write a row to the CSV file indicating no tags were found for the actors in the movie\n",
    "            csv_writer.writerow([movie_title, \"No tags found\", \"N/A\"])\n",
    "            continue\n",
    "\n",
    "        user_affect = {}\n",
    "\n",
    "        # Calculate user influence for the current movie\n",
    "        for actor in movie[\"starring\"]:\n",
    "            for tag, stats in tag_stats.items():\n",
    "                if actor in tag:\n",
    "                    user_affect[tag] = (\n",
    "                        user_affect.get(tag, 0) + (stats[\"totalPositive\"] / stats[\"uniqueUsers\"])\n",
    "                    )\n",
    "\n",
    "        user_total_affect = sum(user_affect.values())\n",
    "\n",
    "        # Calculate the percentage of influence for each tag\n",
    "        user_percentage_influence = {}\n",
    "        if user_total_affect != 0:\n",
    "            user_percentage_influence = {\n",
    "                tag: round((influence / user_total_affect) * 100, 2) for tag, influence in user_affect.items()\n",
    "            }\n",
    "\n",
    "        # Write data for each tag that includes an actor's or actress's name\n",
    "        for tag, percentage in user_percentage_influence.items():\n",
    "            csv_writer.writerow([movie_title, tag, '{:.2f}'.format(percentage)])\n",
    "\n",
    "# Close the database connection\n",
    "cursor.close()\n",
    "conn.close()\n",
    "\n",
    "print(f\"Statistics for {num_movies_to_print} random movies written to {csv_filename}\")"
   ]
  },
  {
   "cell_type": "code",
   "execution_count": 8,
   "id": "7fdab805-fe25-4daf-a9b7-ef31b45f243d",
   "metadata": {},
   "outputs": [],
   "source": [
    "import pandas as pd "
   ]
  },
  {
   "cell_type": "code",
   "execution_count": 9,
   "id": "217d2501-6170-4b7c-995d-bd15c3a062c3",
   "metadata": {},
   "outputs": [],
   "source": [
    "data = pd.read_csv(\"random_movies_statistics.csv\")"
   ]
  },
  {
   "cell_type": "markdown",
   "id": "18f0a802-218b-4fd5-81e5-5ec8f3f951d8",
   "metadata": {
    "scrolled": true
   },
   "source": [
    "#### Shown below is the resulting csv file that is outputed with the title of the random movie selected, the tags that were interacted with and the percentage of user-interaction with that tag out of all the tags on that movie."
   ]
  },
  {
   "cell_type": "code",
   "execution_count": 10,
   "id": "6903b3da-c1f5-4ac8-b6f8-4be6c303759a",
   "metadata": {},
   "outputs": [
    {
     "data": {
      "text/html": [
       "<div>\n",
       "<style scoped>\n",
       "    .dataframe tbody tr th:only-of-type {\n",
       "        vertical-align: middle;\n",
       "    }\n",
       "\n",
       "    .dataframe tbody tr th {\n",
       "        vertical-align: top;\n",
       "    }\n",
       "\n",
       "    .dataframe thead th {\n",
       "        text-align: right;\n",
       "    }\n",
       "</style>\n",
       "<table border=\"1\" class=\"dataframe\">\n",
       "  <thead>\n",
       "    <tr style=\"text-align: right;\">\n",
       "      <th></th>\n",
       "      <th>Movie Title</th>\n",
       "      <th>Tag</th>\n",
       "      <th>Affect Percentage</th>\n",
       "    </tr>\n",
       "  </thead>\n",
       "  <tbody>\n",
       "    <tr>\n",
       "      <th>0</th>\n",
       "      <td>Worm (2014)</td>\n",
       "      <td>No tags found</td>\n",
       "      <td>NaN</td>\n",
       "    </tr>\n",
       "    <tr>\n",
       "      <th>1</th>\n",
       "      <td>Happy March 8th, Men! (2014)</td>\n",
       "      <td>No tags found</td>\n",
       "      <td>NaN</td>\n",
       "    </tr>\n",
       "    <tr>\n",
       "      <th>2</th>\n",
       "      <td>Kindred, The (1986)</td>\n",
       "      <td>Rod Steiger</td>\n",
       "      <td>100.0</td>\n",
       "    </tr>\n",
       "    <tr>\n",
       "      <th>3</th>\n",
       "      <td>Jannat 2 (2012)</td>\n",
       "      <td>No tags found</td>\n",
       "      <td>NaN</td>\n",
       "    </tr>\n",
       "    <tr>\n",
       "      <th>4</th>\n",
       "      <td>Apocalypse '45 (2020)</td>\n",
       "      <td>NaN</td>\n",
       "      <td>100.0</td>\n",
       "    </tr>\n",
       "  </tbody>\n",
       "</table>\n",
       "</div>"
      ],
      "text/plain": [
       "                    Movie Title            Tag  Affect Percentage\n",
       "0                   Worm (2014)  No tags found                NaN\n",
       "1  Happy March 8th, Men! (2014)  No tags found                NaN\n",
       "2           Kindred, The (1986)    Rod Steiger              100.0\n",
       "3               Jannat 2 (2012)  No tags found                NaN\n",
       "4         Apocalypse '45 (2020)            NaN              100.0"
      ]
     },
     "execution_count": 10,
     "metadata": {},
     "output_type": "execute_result"
    }
   ],
   "source": [
    "data.head(30)"
   ]
  },
  {
   "cell_type": "markdown",
   "id": "aa837041-7445-4787-a3e7-2e134751c5b5",
   "metadata": {},
   "source": [
    "### <u>12/1/23-Present</u>"
   ]
  },
  {
   "cell_type": "markdown",
   "id": "92fb0622-9394-47b3-94c7-3fa4b02dd518",
   "metadata": {
    "jp-MarkdownHeadingCollapsed": true
   },
   "source": [
    "##### As of right now, since we figured out there is clear evidence of sufficient tag data to use for movie recommendation we are attempting to deeper into finding a way to connect the results of tag interactions with another category to recommend movies effectively to users. Below is shown my previous proposal from 12/1/23, and then we had gone on Winter Break and I had not really done anything after the meeting nor have we had another meeting yet."
   ]
  },
  {
   "cell_type": "markdown",
   "id": "ed3e8215-9779-4482-a540-b654bc70e178",
   "metadata": {},
   "source": [
    "### Question That is Being Asked: \n",
    "     What is the meaning of the valence/total Application of tags in the database?\n",
    "\n",
    "### Findings: \n",
    "    From what I've found in the databases, it appears that when diving deeper into specific tables, the meaning behind numNuetral, numPosiitve, and numNegative is the number of possibilities of effects for each tag. That means that there is only one option for each which means you felt neutral, positive, or Negative for each tag. I tried selecting the counts for what affect through the tag_events table. I believe that this is just the total amount of times that the affect was used for all tags in all of the movies. I'm not exactly sure if this is the correct interpretation of what I was trying to do, or whether or not this is what Daniel had asked for at the last meeting, but this is how I understood it. I would love it if somebody from the last meeting would give me feedback on whether or not this is correct. \n",
    "### Proposal for Moving Forward: \n",
    "    I think that moving forward, it would be interesting to move forward with the idea of figuring out how we can suggest movies based on how users are using the affect on tags. For example, if a user puts a +1 for a tag, then we can use that in-time data to affect the \"we think you'd like these movies\" section of the website and then it would give movies with that exact tag or similar tags. If a user puts a -1 for a tag then we would find movies that have tags that are opposite of that tag that the user didn't like. If a user uses the neutral affect on the tag then there would be no effect on which movies are recommended. "
   ]
  },
  {
   "cell_type": "markdown",
   "id": "239a957c-e5bb-4990-b1ab-170226390602",
   "metadata": {},
   "source": [
    "#### New Proposal as of 1/22/24:"
   ]
  },
  {
   "cell_type": "markdown",
   "id": "83dc83e6",
   "metadata": {},
   "source": [
    "##### What if we looked at not only the tags in general but maybe tried to look at more specifically the tags throughout specific genres? We could try to see if there is similarity in tags for example between actors, themes in movies, or other types of tags in specific genres of movies. Then we could try to recommend movies to users who liked movies in that genre based on the tag that they liked. For example, say John Doe was a tag for one of the movies and then the user puts a \"+1\" for that tag. Then on the homepage, there could be a section that loads other movies of that genre containing that John Doe tag. I think we have usable the data for this as we have the movie genre data and the tag data in our database. With that data, we can essentially loop through all the different active movies throughout the different genres using real-time user interactions with tags to keep updating the homepage with different tags. "
   ]
  }
 ],
 "metadata": {
  "kernelspec": {
   "display_name": "Python 3 (ipykernel)",
   "language": "python",
   "name": "python3"
  },
  "language_info": {
   "codemirror_mode": {
    "name": "ipython",
    "version": 3
   },
   "file_extension": ".py",
   "mimetype": "text/x-python",
   "name": "python",
   "nbconvert_exporter": "python",
   "pygments_lexer": "ipython3",
   "version": "3.10.6"
  },
  "vscode": {
   "interpreter": {
    "hash": "aee8b7b246df8f9039afb4144a1f6fd8d2ca17a180786b69acc140d282b71a49"
   }
  }
 },
 "nbformat": 4,
 "nbformat_minor": 5
}
